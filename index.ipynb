{
 "cells": [
  {
   "cell_type": "markdown",
   "metadata": {},
   "source": [
    "# Join Statements"
   ]
  },
  {
   "cell_type": "markdown",
   "metadata": {},
   "source": [
    "## Introduction"
   ]
  },
  {
   "cell_type": "markdown",
   "metadata": {},
   "source": [
    "In this lab, you'll practice your knowledge on Join statements."
   ]
  },
  {
   "cell_type": "markdown",
   "metadata": {},
   "source": [
    "## Objectives"
   ]
  },
  {
   "cell_type": "markdown",
   "metadata": {},
   "source": [
    "You will be able to:\n",
    "- Write queries that make use of various types of Joins\n",
    "- Join tables using foreign keys"
   ]
  },
  {
   "cell_type": "markdown",
   "metadata": {},
   "source": [
    "## CRM Schema\n",
    "\n",
    "In almost all cases, rather then just working with a single table we will typically need data from multiple tables. \n",
    "Doing this requires the use of **joins ** using shared columns from the two tables. \n",
    "\n",
    "In this lab, we'll use the same Customer Relationship Management (CRM) database we used in our lecture before!\n",
    "<img src='Database-Schema.png' width=550>"
   ]
  },
  {
   "cell_type": "markdown",
   "metadata": {},
   "source": [
    "## Connecting to the Database\n",
    "Import the necessary packages and connect to the database **data.sqlite**."
   ]
  },
  {
   "cell_type": "code",
   "execution_count": 1,
   "metadata": {
    "collapsed": true
   },
   "outputs": [],
   "source": [
    "#Your code here\n",
    "import sqlite3\n",
    "import pandas as pd\n",
    "conn = sqlite3.connect('data.sqlite', detect_types=sqlite3.PARSE_COLNAMES)\n",
    "cur = conn.cursor()"
   ]
  },
  {
   "cell_type": "markdown",
   "metadata": {},
   "source": [
    "## Display the names of all the employees in Boston."
   ]
  },
  {
   "cell_type": "code",
   "execution_count": 2,
   "metadata": {},
   "outputs": [
    {
     "data": {
      "text/plain": [
       "[('1188',\n",
       "  'Firrelli',\n",
       "  'Julie',\n",
       "  'x2173',\n",
       "  'jfirrelli@classicmodelcars.com',\n",
       "  '2',\n",
       "  '1143',\n",
       "  'Sales Rep',\n",
       "  'Boston',\n",
       "  '+1 215 837 0825',\n",
       "  '1550 Court Place',\n",
       "  'Suite 102',\n",
       "  'MA',\n",
       "  'USA',\n",
       "  '02107',\n",
       "  'NA'),\n",
       " ('1216',\n",
       "  'Patterson',\n",
       "  'Steve',\n",
       "  'x4334',\n",
       "  'spatterson@classicmodelcars.com',\n",
       "  '2',\n",
       "  '1143',\n",
       "  'Sales Rep',\n",
       "  'Boston',\n",
       "  '+1 215 837 0825',\n",
       "  '1550 Court Place',\n",
       "  'Suite 102',\n",
       "  'MA',\n",
       "  'USA',\n",
       "  '02107',\n",
       "  'NA')]"
      ]
     },
     "execution_count": 2,
     "metadata": {},
     "output_type": "execute_result"
    }
   ],
   "source": [
    "#Your code here\n",
    "cur.execute('''SELECT * FROM employees e LEFT JOIN offices o USING(officeCode) WHERE city = \"Boston\";''').fetchall()"
   ]
  },
  {
   "cell_type": "markdown",
   "metadata": {},
   "source": [
    "## Do any offices have no employees?"
   ]
  },
  {
   "cell_type": "code",
   "execution_count": 4,
   "metadata": {},
   "outputs": [
    {
     "data": {
      "text/html": [
       "<div>\n",
       "<style scoped>\n",
       "    .dataframe tbody tr th:only-of-type {\n",
       "        vertical-align: middle;\n",
       "    }\n",
       "\n",
       "    .dataframe tbody tr th {\n",
       "        vertical-align: top;\n",
       "    }\n",
       "\n",
       "    .dataframe thead th {\n",
       "        text-align: right;\n",
       "    }\n",
       "</style>\n",
       "<table border=\"1\" class=\"dataframe\">\n",
       "  <thead>\n",
       "    <tr style=\"text-align: right;\">\n",
       "      <th></th>\n",
       "      <th>officeCode</th>\n",
       "      <th>city</th>\n",
       "      <th>phone</th>\n",
       "      <th>addressLine1</th>\n",
       "      <th>addressLine2</th>\n",
       "      <th>state</th>\n",
       "      <th>country</th>\n",
       "      <th>postalCode</th>\n",
       "      <th>territory</th>\n",
       "      <th>employeeNumber</th>\n",
       "      <th>lastName</th>\n",
       "      <th>firstName</th>\n",
       "      <th>extension</th>\n",
       "      <th>email</th>\n",
       "      <th>reportsTo</th>\n",
       "      <th>jobTitle</th>\n",
       "    </tr>\n",
       "  </thead>\n",
       "  <tbody>\n",
       "  </tbody>\n",
       "</table>\n",
       "</div>"
      ],
      "text/plain": [
       "Empty DataFrame\n",
       "Columns: [officeCode, city, phone, addressLine1, addressLine2, state, country, postalCode, territory, employeeNumber, lastName, firstName, extension, email, reportsTo, jobTitle]\n",
       "Index: []"
      ]
     },
     "execution_count": 4,
     "metadata": {},
     "output_type": "execute_result"
    }
   ],
   "source": [
    "#Your code here\n",
    "cur.execute('''SELECT * FROM offices LEFT JOIN employees USING(officeCode);''')\n",
    "\n",
    "df = pd.DataFrame(cur.fetchall()) #Take results and create dataframe\n",
    "df.columns = [i[0] for i in cur.description]\n",
    "# print(len(df))\n",
    "# print(len(df[df.orderNumber.isnull()]))\n",
    "df[df.employeeNumber.isnull()].head()\n",
    "\n",
    "# It does not appear that there are any offices with no employees."
   ]
  },
  {
   "cell_type": "code",
   "execution_count": 5,
   "metadata": {},
   "outputs": [
    {
     "data": {
      "text/html": [
       "<div>\n",
       "<style scoped>\n",
       "    .dataframe tbody tr th:only-of-type {\n",
       "        vertical-align: middle;\n",
       "    }\n",
       "\n",
       "    .dataframe tbody tr th {\n",
       "        vertical-align: top;\n",
       "    }\n",
       "\n",
       "    .dataframe thead th {\n",
       "        text-align: right;\n",
       "    }\n",
       "</style>\n",
       "<table border=\"1\" class=\"dataframe\">\n",
       "  <thead>\n",
       "    <tr style=\"text-align: right;\">\n",
       "      <th></th>\n",
       "      <th>officeCode</th>\n",
       "      <th>city</th>\n",
       "      <th>phone</th>\n",
       "      <th>addressLine1</th>\n",
       "      <th>addressLine2</th>\n",
       "      <th>state</th>\n",
       "      <th>country</th>\n",
       "      <th>postalCode</th>\n",
       "      <th>territory</th>\n",
       "      <th>employeeNumber</th>\n",
       "      <th>lastName</th>\n",
       "      <th>firstName</th>\n",
       "      <th>extension</th>\n",
       "      <th>email</th>\n",
       "      <th>reportsTo</th>\n",
       "      <th>jobTitle</th>\n",
       "    </tr>\n",
       "  </thead>\n",
       "  <tbody>\n",
       "    <tr>\n",
       "      <th>0</th>\n",
       "      <td>1</td>\n",
       "      <td>San Francisco</td>\n",
       "      <td>+1 650 219 4782</td>\n",
       "      <td>100 Market Street</td>\n",
       "      <td>Suite 300</td>\n",
       "      <td>CA</td>\n",
       "      <td>USA</td>\n",
       "      <td>94080</td>\n",
       "      <td>NA</td>\n",
       "      <td>1002</td>\n",
       "      <td>Murphy</td>\n",
       "      <td>Diane</td>\n",
       "      <td>x5800</td>\n",
       "      <td>dmurphy@classicmodelcars.com</td>\n",
       "      <td></td>\n",
       "      <td>President</td>\n",
       "    </tr>\n",
       "    <tr>\n",
       "      <th>1</th>\n",
       "      <td>1</td>\n",
       "      <td>San Francisco</td>\n",
       "      <td>+1 650 219 4782</td>\n",
       "      <td>100 Market Street</td>\n",
       "      <td>Suite 300</td>\n",
       "      <td>CA</td>\n",
       "      <td>USA</td>\n",
       "      <td>94080</td>\n",
       "      <td>NA</td>\n",
       "      <td>1056</td>\n",
       "      <td>Patterson</td>\n",
       "      <td>Mary</td>\n",
       "      <td>x4611</td>\n",
       "      <td>mpatterso@classicmodelcars.com</td>\n",
       "      <td>1002</td>\n",
       "      <td>VP Sales</td>\n",
       "    </tr>\n",
       "    <tr>\n",
       "      <th>2</th>\n",
       "      <td>1</td>\n",
       "      <td>San Francisco</td>\n",
       "      <td>+1 650 219 4782</td>\n",
       "      <td>100 Market Street</td>\n",
       "      <td>Suite 300</td>\n",
       "      <td>CA</td>\n",
       "      <td>USA</td>\n",
       "      <td>94080</td>\n",
       "      <td>NA</td>\n",
       "      <td>1076</td>\n",
       "      <td>Firrelli</td>\n",
       "      <td>Jeff</td>\n",
       "      <td>x9273</td>\n",
       "      <td>jfirrelli@classicmodelcars.com</td>\n",
       "      <td>1002</td>\n",
       "      <td>VP Marketing</td>\n",
       "    </tr>\n",
       "    <tr>\n",
       "      <th>3</th>\n",
       "      <td>1</td>\n",
       "      <td>San Francisco</td>\n",
       "      <td>+1 650 219 4782</td>\n",
       "      <td>100 Market Street</td>\n",
       "      <td>Suite 300</td>\n",
       "      <td>CA</td>\n",
       "      <td>USA</td>\n",
       "      <td>94080</td>\n",
       "      <td>NA</td>\n",
       "      <td>1143</td>\n",
       "      <td>Bow</td>\n",
       "      <td>Anthony</td>\n",
       "      <td>x5428</td>\n",
       "      <td>abow@classicmodelcars.com</td>\n",
       "      <td>1056</td>\n",
       "      <td>Sales Manager (NA)</td>\n",
       "    </tr>\n",
       "    <tr>\n",
       "      <th>4</th>\n",
       "      <td>1</td>\n",
       "      <td>San Francisco</td>\n",
       "      <td>+1 650 219 4782</td>\n",
       "      <td>100 Market Street</td>\n",
       "      <td>Suite 300</td>\n",
       "      <td>CA</td>\n",
       "      <td>USA</td>\n",
       "      <td>94080</td>\n",
       "      <td>NA</td>\n",
       "      <td>1165</td>\n",
       "      <td>Jennings</td>\n",
       "      <td>Leslie</td>\n",
       "      <td>x3291</td>\n",
       "      <td>ljennings@classicmodelcars.com</td>\n",
       "      <td>1143</td>\n",
       "      <td>Sales Rep</td>\n",
       "    </tr>\n",
       "    <tr>\n",
       "      <th>5</th>\n",
       "      <td>1</td>\n",
       "      <td>San Francisco</td>\n",
       "      <td>+1 650 219 4782</td>\n",
       "      <td>100 Market Street</td>\n",
       "      <td>Suite 300</td>\n",
       "      <td>CA</td>\n",
       "      <td>USA</td>\n",
       "      <td>94080</td>\n",
       "      <td>NA</td>\n",
       "      <td>1166</td>\n",
       "      <td>Thompson</td>\n",
       "      <td>Leslie</td>\n",
       "      <td>x4065</td>\n",
       "      <td>lthompson@classicmodelcars.com</td>\n",
       "      <td>1143</td>\n",
       "      <td>Sales Rep</td>\n",
       "    </tr>\n",
       "    <tr>\n",
       "      <th>6</th>\n",
       "      <td>2</td>\n",
       "      <td>Boston</td>\n",
       "      <td>+1 215 837 0825</td>\n",
       "      <td>1550 Court Place</td>\n",
       "      <td>Suite 102</td>\n",
       "      <td>MA</td>\n",
       "      <td>USA</td>\n",
       "      <td>02107</td>\n",
       "      <td>NA</td>\n",
       "      <td>1188</td>\n",
       "      <td>Firrelli</td>\n",
       "      <td>Julie</td>\n",
       "      <td>x2173</td>\n",
       "      <td>jfirrelli@classicmodelcars.com</td>\n",
       "      <td>1143</td>\n",
       "      <td>Sales Rep</td>\n",
       "    </tr>\n",
       "    <tr>\n",
       "      <th>7</th>\n",
       "      <td>2</td>\n",
       "      <td>Boston</td>\n",
       "      <td>+1 215 837 0825</td>\n",
       "      <td>1550 Court Place</td>\n",
       "      <td>Suite 102</td>\n",
       "      <td>MA</td>\n",
       "      <td>USA</td>\n",
       "      <td>02107</td>\n",
       "      <td>NA</td>\n",
       "      <td>1216</td>\n",
       "      <td>Patterson</td>\n",
       "      <td>Steve</td>\n",
       "      <td>x4334</td>\n",
       "      <td>spatterson@classicmodelcars.com</td>\n",
       "      <td>1143</td>\n",
       "      <td>Sales Rep</td>\n",
       "    </tr>\n",
       "    <tr>\n",
       "      <th>8</th>\n",
       "      <td>3</td>\n",
       "      <td>NYC</td>\n",
       "      <td>+1 212 555 3000</td>\n",
       "      <td>523 East 53rd Street</td>\n",
       "      <td>apt. 5A</td>\n",
       "      <td>NY</td>\n",
       "      <td>USA</td>\n",
       "      <td>10022</td>\n",
       "      <td>NA</td>\n",
       "      <td>1286</td>\n",
       "      <td>Tseng</td>\n",
       "      <td>Foon Yue</td>\n",
       "      <td>x2248</td>\n",
       "      <td>ftseng@classicmodelcars.com</td>\n",
       "      <td>1143</td>\n",
       "      <td>Sales Rep</td>\n",
       "    </tr>\n",
       "    <tr>\n",
       "      <th>9</th>\n",
       "      <td>3</td>\n",
       "      <td>NYC</td>\n",
       "      <td>+1 212 555 3000</td>\n",
       "      <td>523 East 53rd Street</td>\n",
       "      <td>apt. 5A</td>\n",
       "      <td>NY</td>\n",
       "      <td>USA</td>\n",
       "      <td>10022</td>\n",
       "      <td>NA</td>\n",
       "      <td>1323</td>\n",
       "      <td>Vanauf</td>\n",
       "      <td>George</td>\n",
       "      <td>x4102</td>\n",
       "      <td>gvanauf@classicmodelcars.com</td>\n",
       "      <td>1143</td>\n",
       "      <td>Sales Rep</td>\n",
       "    </tr>\n",
       "  </tbody>\n",
       "</table>\n",
       "</div>"
      ],
      "text/plain": [
       "  officeCode           city            phone          addressLine1  \\\n",
       "0          1  San Francisco  +1 650 219 4782     100 Market Street   \n",
       "1          1  San Francisco  +1 650 219 4782     100 Market Street   \n",
       "2          1  San Francisco  +1 650 219 4782     100 Market Street   \n",
       "3          1  San Francisco  +1 650 219 4782     100 Market Street   \n",
       "4          1  San Francisco  +1 650 219 4782     100 Market Street   \n",
       "5          1  San Francisco  +1 650 219 4782     100 Market Street   \n",
       "6          2         Boston  +1 215 837 0825      1550 Court Place   \n",
       "7          2         Boston  +1 215 837 0825      1550 Court Place   \n",
       "8          3            NYC  +1 212 555 3000  523 East 53rd Street   \n",
       "9          3            NYC  +1 212 555 3000  523 East 53rd Street   \n",
       "\n",
       "  addressLine2 state country postalCode territory employeeNumber   lastName  \\\n",
       "0    Suite 300    CA     USA      94080        NA           1002     Murphy   \n",
       "1    Suite 300    CA     USA      94080        NA           1056  Patterson   \n",
       "2    Suite 300    CA     USA      94080        NA           1076   Firrelli   \n",
       "3    Suite 300    CA     USA      94080        NA           1143        Bow   \n",
       "4    Suite 300    CA     USA      94080        NA           1165   Jennings   \n",
       "5    Suite 300    CA     USA      94080        NA           1166   Thompson   \n",
       "6    Suite 102    MA     USA      02107        NA           1188   Firrelli   \n",
       "7    Suite 102    MA     USA      02107        NA           1216  Patterson   \n",
       "8      apt. 5A    NY     USA      10022        NA           1286      Tseng   \n",
       "9      apt. 5A    NY     USA      10022        NA           1323     Vanauf   \n",
       "\n",
       "  firstName extension                            email reportsTo  \\\n",
       "0     Diane     x5800     dmurphy@classicmodelcars.com             \n",
       "1      Mary     x4611   mpatterso@classicmodelcars.com      1002   \n",
       "2      Jeff     x9273   jfirrelli@classicmodelcars.com      1002   \n",
       "3   Anthony     x5428        abow@classicmodelcars.com      1056   \n",
       "4    Leslie     x3291   ljennings@classicmodelcars.com      1143   \n",
       "5    Leslie     x4065   lthompson@classicmodelcars.com      1143   \n",
       "6     Julie     x2173   jfirrelli@classicmodelcars.com      1143   \n",
       "7     Steve     x4334  spatterson@classicmodelcars.com      1143   \n",
       "8  Foon Yue     x2248      ftseng@classicmodelcars.com      1143   \n",
       "9    George     x4102     gvanauf@classicmodelcars.com      1143   \n",
       "\n",
       "             jobTitle  \n",
       "0           President  \n",
       "1            VP Sales  \n",
       "2        VP Marketing  \n",
       "3  Sales Manager (NA)  \n",
       "4           Sales Rep  \n",
       "5           Sales Rep  \n",
       "6           Sales Rep  \n",
       "7           Sales Rep  \n",
       "8           Sales Rep  \n",
       "9           Sales Rep  "
      ]
     },
     "execution_count": 5,
     "metadata": {},
     "output_type": "execute_result"
    }
   ],
   "source": [
    "df.head(10)"
   ]
  },
  {
   "cell_type": "markdown",
   "metadata": {},
   "source": [
    "## Write 3 Questions of your own and answer them"
   ]
  },
  {
   "cell_type": "code",
   "execution_count": null,
   "metadata": {
    "collapsed": true
   },
   "outputs": [],
   "source": [
    "# Answers will vary"
   ]
  },
  {
   "cell_type": "code",
   "execution_count": null,
   "metadata": {
    "collapsed": true
   },
   "outputs": [],
   "source": [
    "# Your code here"
   ]
  },
  {
   "cell_type": "code",
   "execution_count": null,
   "metadata": {
    "collapsed": true
   },
   "outputs": [],
   "source": [
    "# Your code here"
   ]
  },
  {
   "cell_type": "code",
   "execution_count": null,
   "metadata": {
    "collapsed": true
   },
   "outputs": [],
   "source": [
    "# Your code here"
   ]
  },
  {
   "cell_type": "markdown",
   "metadata": {},
   "source": [
    "## Level Up: Display the names of each product each employee has sold."
   ]
  },
  {
   "cell_type": "code",
   "execution_count": null,
   "metadata": {
    "collapsed": true
   },
   "outputs": [],
   "source": [
    "# Your code here"
   ]
  },
  {
   "cell_type": "markdown",
   "metadata": {},
   "source": [
    "## Level Up: Display the Number of Products each Employee Has sold"
   ]
  },
  {
   "cell_type": "code",
   "execution_count": null,
   "metadata": {
    "collapsed": true
   },
   "outputs": [],
   "source": [
    "#Your code here"
   ]
  },
  {
   "cell_type": "markdown",
   "metadata": {},
   "source": [
    "## Summary"
   ]
  },
  {
   "cell_type": "markdown",
   "metadata": {},
   "source": [
    "Congrats! You now know how to use Join statements, along with leveraging your foreign keys knowledge!"
   ]
  }
 ],
 "metadata": {
  "kernelspec": {
   "display_name": "Python 3",
   "language": "python",
   "name": "python3"
  },
  "language_info": {
   "codemirror_mode": {
    "name": "ipython",
    "version": 3
   },
   "file_extension": ".py",
   "mimetype": "text/x-python",
   "name": "python",
   "nbconvert_exporter": "python",
   "pygments_lexer": "ipython3",
   "version": "3.6.3"
  }
 },
 "nbformat": 4,
 "nbformat_minor": 2
}
